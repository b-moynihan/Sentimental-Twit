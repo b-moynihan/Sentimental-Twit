{
 "cells": [
  {
   "cell_type": "code",
   "execution_count": 38,
   "id": "b620a15f",
   "metadata": {},
   "outputs": [
    {
     "name": "stdout",
     "output_type": "stream",
     "text": [
      "Requirement already satisfied: tweepy in c:\\users\\pc\\development\\dataengprojects\\sentimental-twit\\lib\\site-packages (4.5.0)\n",
      "Requirement already satisfied: requests<3,>=2.27.0 in c:\\users\\pc\\development\\dataengprojects\\sentimental-twit\\lib\\site-packages (from tweepy) (2.27.1)\n",
      "Requirement already satisfied: requests-oauthlib<2,>=1.0.0 in c:\\users\\pc\\development\\dataengprojects\\sentimental-twit\\lib\\site-packages (from tweepy) (1.3.1)\n",
      "Requirement already satisfied: urllib3<1.27,>=1.21.1 in c:\\users\\pc\\development\\dataengprojects\\sentimental-twit\\lib\\site-packages (from requests<3,>=2.27.0->tweepy) (1.26.8)\n",
      "Requirement already satisfied: idna<4,>=2.5 in c:\\users\\pc\\development\\dataengprojects\\sentimental-twit\\lib\\site-packages (from requests<3,>=2.27.0->tweepy) (3.3)\n",
      "Requirement already satisfied: charset-normalizer~=2.0.0 in c:\\users\\pc\\development\\dataengprojects\\sentimental-twit\\lib\\site-packages (from requests<3,>=2.27.0->tweepy) (2.0.12)\n",
      "Requirement already satisfied: certifi>=2017.4.17 in c:\\users\\pc\\development\\dataengprojects\\sentimental-twit\\lib\\site-packages (from requests<3,>=2.27.0->tweepy) (2021.10.8)\n",
      "Requirement already satisfied: oauthlib>=3.0.0 in c:\\users\\pc\\development\\dataengprojects\\sentimental-twit\\lib\\site-packages (from requests-oauthlib<2,>=1.0.0->tweepy) (3.2.0)\n",
      "Note: you may need to restart the kernel to use updated packages.\n",
      "Requirement already satisfied: geopy in c:\\users\\pc\\development\\dataengprojects\\sentimental-twit\\lib\\site-packages (2.2.0)Note: you may need to restart the kernel to use updated packages.\n",
      "Requirement already satisfied: geographiclib<2,>=1.49 in c:\\users\\pc\\development\\dataengprojects\\sentimental-twit\\lib\\site-packages (from geopy) (1.52)\n",
      "\n",
      "Requirement already satisfied: plotly==5.6.0 in c:\\users\\pc\\development\\dataengprojects\\sentimental-twit\\lib\\site-packages (5.6.0)Note: you may need to restart the kernel to use updated packages.\n",
      "Requirement already satisfied: tenacity>=6.2.0 in c:\\users\\pc\\development\\dataengprojects\\sentimental-twit\\lib\\site-packages (from plotly==5.6.0) (8.0.1)\n",
      "Requirement already satisfied: six in c:\\users\\pc\\development\\dataengprojects\\sentimental-twit\\lib\\site-packages (from plotly==5.6.0) (1.16.0)\n",
      "\n"
     ]
    }
   ],
   "source": [
    "%pip install tweepy\n",
    "%pip install geopy\n",
    "%pip install plotly==5.6.0"
   ]
  },
  {
   "cell_type": "code",
   "execution_count": 39,
   "id": "68c6ebcd",
   "metadata": {},
   "outputs": [
    {
     "name": "stderr",
     "output_type": "stream",
     "text": [
      "[nltk_data] Downloading package vader_lexicon to\n",
      "[nltk_data]     C:\\Users\\Pc\\AppData\\Roaming\\nltk_data...\n",
      "[nltk_data]   Package vader_lexicon is already up-to-date!\n"
     ]
    },
    {
     "data": {
      "text/plain": [
       "True"
      ]
     },
     "execution_count": 39,
     "metadata": {},
     "output_type": "execute_result"
    }
   ],
   "source": [
    "import tweepy\n",
    "import pandas as pd\n",
    "import plotly.express as px\n",
    "import nltk\n",
    "from geopy.geocoders import Nominatim\n",
    "from nltk.sentiment.vader import SentimentIntensityAnalyzer\n",
    "nltk.downloader.download('vader_lexicon')"
   ]
  },
  {
   "cell_type": "code",
   "execution_count": 40,
   "id": "009caadb",
   "metadata": {},
   "outputs": [],
   "source": [
    "consumerKey = \"x\"\n",
    "consumerSecret = \"x\"\n",
    "accessToken = \"x\"\n",
    "accessTokenSecret = \"x\"\n",
    "auth = tweepy.OAuthHandler(consumerKey, consumerSecret)\n",
    "auth.set_access_token(accessToken, accessTokenSecret)\n",
    "api = tweepy.API(auth)"
   ]
  },
  {
   "cell_type": "code",
   "execution_count": 41,
   "id": "15930e46",
   "metadata": {},
   "outputs": [],
   "source": [
    "class Geo:\n",
    "    def __init__(self, coordinates, place_id):\n",
    "        self.coordinates = coordinates\n",
    "        self.place_id = place_id\n",
    "        "
   ]
  },
  {
   "cell_type": "code",
   "execution_count": 42,
   "id": "24290079",
   "metadata": {},
   "outputs": [],
   "source": [
    "class Coordinates:\n",
    "    def __init__(self, type, coordinates):\n",
    "        self.type = type\n",
    "        self.coordinates = coordinates\n",
    "    \n",
    "#     @property\n",
    "#     def type(self):\n",
    "#         return self.type\n",
    "    \n",
    "#     @type.setter\n",
    "#     def type(self, value):\n",
    "#         if not isinstance(value, str):\n",
    "#             raise TypeError(\"type must be set to an string\")\n",
    "#         self.__type = value\n",
    "        \n",
    "#     @property\n",
    "#     def coordinates(self):\n",
    "#         return self.__positive\n",
    "    \n",
    "#     @positive.setter\n",
    "#     def positive(self, value):\n",
    "#         if not isinstance(value, float):\n",
    "#             raise TypeError(\"positive must be set to an float\")\n",
    "#         self.__positive = value\n",
    "        \n",
    "#     def append(self, val):\n",
    "#         self.myList = self.myList + [val]\n",
    "#         return self.myList  \n",
    "\n",
    "#     def extend(self, val):\n",
    "#         return self.myList.extend(val)"
   ]
  },
  {
   "cell_type": "code",
   "execution_count": null,
   "id": "471ec892",
   "metadata": {},
   "outputs": [],
   "source": [
    "def clean_tweet_text(df_tweets):\n",
    "    strip_symbols = lambda temp: re.sub(\"(@[A-Za-z0-9_]+)|#[A-Za-z0-9_]+|([^0-9A-Za-z \\t])|[()!?]|\\[.*?\\]\",\" \",temp)\n",
    "    strip_links = lambda temp: re.sub(r'http\\S+', '', temp)\n",
    "    df_tweets[\"text\"].map(strip_symbols).map(strip_links)\n",
    "    return df_tweets[\"text\"].map(strip_symbols).map(strip_links)\n",
    "    "
   ]
  },
  {
   "cell_type": "code",
   "execution_count": 54,
   "id": "694862e3",
   "metadata": {},
   "outputs": [
    {
     "name": "stdout",
     "output_type": "stream",
     "text": [
      "The Douglas Road will be closed from the bottom of the Southern Road at the Infirmary Road/Old Blackrock Road/Langf… https://t.co/f6811YvCLX\n"
     ]
    },
    {
     "ename": "NameError",
     "evalue": "name 'clean_tweet_text' is not defined",
     "output_type": "error",
     "traceback": [
      "\u001b[1;31m---------------------------------------------------------------------------\u001b[0m",
      "\u001b[1;31mNameError\u001b[0m                                 Traceback (most recent call last)",
      "Input \u001b[1;32mIn [54]\u001b[0m, in \u001b[0;36m<module>\u001b[1;34m\u001b[0m\n\u001b[0;32m     16\u001b[0m df_tweets \u001b[38;5;241m=\u001b[39m pd\u001b[38;5;241m.\u001b[39mDataFrame(tweet_list)\n\u001b[0;32m     17\u001b[0m df_tweets[\u001b[38;5;124m\"\u001b[39m\u001b[38;5;124mtext\u001b[39m\u001b[38;5;124m\"\u001b[39m] \u001b[38;5;241m=\u001b[39m df_tweets[\u001b[38;5;241m0\u001b[39m]\n\u001b[1;32m---> 18\u001b[0m \u001b[43mclean_tweet_text\u001b[49m(df_tweets)\n",
      "\u001b[1;31mNameError\u001b[0m: name 'clean_tweet_text' is not defined"
     ]
    }
   ],
   "source": [
    "tweet_list = []\n",
    "sid = SentimentIntensityAnalyzer()\n",
    "\n",
    "distance = 10\n",
    "city = \"\"\n",
    "country = \"\"\n",
    "geo_string = city + \", \" + country\n",
    "query = \"road closed\"\n",
    "max_tweets = 1\n",
    "geolocator = Nominatim(user_agent=\"Sentimental Twit\")\n",
    "location = geolocator.geocode(\"Cork, Ireland\")\n",
    "geo_code_query = \"{latitude},{longitude},{distance}km\".format(latitude = location.latitude, longitude = location.longitude, distance=distance)\n",
    "for tweet in tweepy.Cursor(api.search_tweets, geocode=geo_code_query, q=query, result_type=\"recent\").items(max_tweets):\n",
    "        print(tweet.text)\n",
    "        tweet_list.append(tweet.text)\n",
    "        df_tweets = pd.DataFrame(tweet_list)\n",
    "        df_tweets[\"text\"] = df_tweets[0]\n",
    "        clean_tweet_text(df_tweets)\n",
    "\n",
    "#TODO extract tweet texts and run against a geo parser to pull location information from it and visually represet on plotly map"
   ]
  },
  {
   "cell_type": "code",
   "execution_count": null,
   "id": "158e00a0",
   "metadata": {},
   "outputs": [],
   "source": []
  }
 ],
 "metadata": {
  "kernelspec": {
   "display_name": "Python 3 (ipykernel)",
   "language": "python",
   "name": "python3"
  },
  "language_info": {
   "codemirror_mode": {
    "name": "ipython",
    "version": 3
   },
   "file_extension": ".py",
   "mimetype": "text/x-python",
   "name": "python",
   "nbconvert_exporter": "python",
   "pygments_lexer": "ipython3",
   "version": "3.8.5"
  }
 },
 "nbformat": 4,
 "nbformat_minor": 5
}
